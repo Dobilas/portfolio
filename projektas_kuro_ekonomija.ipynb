{
  "cells": [
    {
      "cell_type": "markdown",
      "metadata": {
        "id": "view-in-github",
        "colab_type": "text"
      },
      "source": [
        "<a href=\"https://colab.research.google.com/github/Dobilas/portfolio/blob/main/projektas_kuro_ekonomija.ipynb\" target=\"_parent\"><img src=\"https://colab.research.google.com/assets/colab-badge.svg\" alt=\"Open In Colab\"/></a>"
      ]
    },
    {
      "cell_type": "markdown",
      "id": "bd3b3dab-a684-4f41-8f4b-86f48288c348",
      "metadata": {
        "id": "bd3b3dab-a684-4f41-8f4b-86f48288c348"
      },
      "source": [
        "#              Istaigos \"X\" naudojamu tarnybiniu automobiliu ekonomiskumo apzvalga"
      ]
    },
    {
      "cell_type": "markdown",
      "id": "c37d47cd-4d5c-4705-a7f8-c564f39e6032",
      "metadata": {
        "tags": [],
        "id": "c37d47cd-4d5c-4705-a7f8-c564f39e6032"
      },
      "source": [
        "#### Pagrindiniai issikeliami klausimai:\n",
        "##### 1. Ar istaigos \"X\" tarnybiniai automobiliai yra naudojami ekonomiskai ir koks yra neatitikimas tarp faktiskai sunaudojamu kuro litru ataskaitiniu laikotarpiu ir paskaiciuoto vidurkio?\n",
        "##### 2. Kurie konkreciai istaigos \"X\" vairuotojai naudoja automobilius ekonomiskai, o kurie ne?\n",
        "##### 3. Kokios markes ir modelio tarnybinikai automobiliai yra ekonomiskiausi, o kurie neekonomiskiausi?\n",
        "##### 4. Koki nuostoli (Eur.) istaiga \"X\" patiria del kuro suvartojimo neatitikimu?\n",
        "##### 5. Kaip keistusi istaigos \"X\" lesos, skiriamos kuro sunaudojimui, brangstant kurui po 0,1 Eur. ir pingant po 0,1 Eur.?\n",
        "##### 6. Ar istaigos \"X\" taikomas mokestis 0,55 Eur. uz 1 km. yra ekonomiskas ir, ar pelningas?"
      ]
    },
    {
      "cell_type": "code",
      "execution_count": null,
      "id": "27c0f45c-e58f-47e9-8f1b-7204d7f84f79",
      "metadata": {
        "tags": [],
        "id": "27c0f45c-e58f-47e9-8f1b-7204d7f84f79"
      },
      "outputs": [],
      "source": [
        "#importavimas biblioteku\n",
        "import pandas as pd\n",
        "import plotly.express as px\n",
        "import seaborn as sns\n",
        "import matplotlib.pyplot as plt"
      ]
    },
    {
      "cell_type": "code",
      "execution_count": null,
      "id": "0c3dea77-2e21-49b1-9b96-c87b4074ffd3",
      "metadata": {
        "tags": [],
        "id": "0c3dea77-2e21-49b1-9b96-c87b4074ffd3"
      },
      "outputs": [],
      "source": [
        "#spalio menesio lentele\n",
        "spal=pd.read_excel(\"2022_10.xlsx\")\n",
        "spal=spal.iloc[3:-1].reset_index(drop=True)\n",
        "spal.drop(columns=spal.columns[0], axis=1, inplace=True)\n",
        "spal[\"data\"]=\"2022-10\""
      ]
    },
    {
      "cell_type": "code",
      "execution_count": null,
      "id": "df89bca4-81a8-4c34-9736-a1081b481a9a",
      "metadata": {
        "tags": [],
        "id": "df89bca4-81a8-4c34-9736-a1081b481a9a"
      },
      "outputs": [],
      "source": [
        "#lapkricio menesio lentele\n",
        "lap=pd.read_excel(\"2022_11.xlsx\")\n",
        "lap=lap.iloc[3:-1].reset_index(drop=True)\n",
        "lap.drop(columns=lap.columns[0], axis=1, inplace=True)\n",
        "lap[\"data\"]=\"2022-11\""
      ]
    },
    {
      "cell_type": "code",
      "execution_count": null,
      "id": "148dd4c1-2931-4f10-804c-794ef520d5fb",
      "metadata": {
        "tags": [],
        "id": "148dd4c1-2931-4f10-804c-794ef520d5fb"
      },
      "outputs": [],
      "source": [
        "#gruodzio menesio lentele\n",
        "gruod=pd.read_excel(\"2022_12.xlsx\")\n",
        "gruod=gruod.iloc[3:-1].reset_index(drop=True)\n",
        "gruod.drop(columns=gruod.columns[0], axis=1, inplace=True)\n",
        "gruod[\"data\"]=\"2022-12\""
      ]
    },
    {
      "cell_type": "code",
      "execution_count": null,
      "id": "c6027b01-1980-4706-9a4d-15eefd8681bb",
      "metadata": {
        "collapsed": true,
        "jupyter": {
          "outputs_hidden": true
        },
        "tags": [],
        "id": "c6027b01-1980-4706-9a4d-15eefd8681bb",
        "outputId": "59e1779b-b755-4187-ea73-38404e3f6d69"
      },
      "outputs": [
        {
          "data": {
            "text/html": [
              "<div>\n",
              "<style scoped>\n",
              "    .dataframe tbody tr th:only-of-type {\n",
              "        vertical-align: middle;\n",
              "    }\n",
              "\n",
              "    .dataframe tbody tr th {\n",
              "        vertical-align: top;\n",
              "    }\n",
              "\n",
              "    .dataframe thead th {\n",
              "        text-align: right;\n",
              "    }\n",
              "</style>\n",
              "<table border=\"1\" class=\"dataframe\">\n",
              "  <thead>\n",
              "    <tr style=\"text-align: right;\">\n",
              "      <th></th>\n",
              "      <th>automobilis</th>\n",
              "      <th>vairuotojas</th>\n",
              "      <th>rida_pr</th>\n",
              "      <th>rida_pb</th>\n",
              "      <th>nuv_ats</th>\n",
              "      <th>nuv_uzm</th>\n",
              "      <th>nuv_mst</th>\n",
              "      <th>kur_kaina</th>\n",
              "      <th>vid_uzm</th>\n",
              "      <th>vid_mst</th>\n",
              "      <th>lik_pr</th>\n",
              "      <th>prkt_kur</th>\n",
              "      <th>sun_uzm</th>\n",
              "      <th>sun_mst</th>\n",
              "      <th>sun_viso</th>\n",
              "      <th>fakt_sun</th>\n",
              "      <th>lik_pb</th>\n",
              "      <th>likutis</th>\n",
              "      <th>data</th>\n",
              "    </tr>\n",
              "  </thead>\n",
              "  <tbody>\n",
              "    <tr>\n",
              "      <th>0</th>\n",
              "      <td>HYUNDAI i40 ABL555</td>\n",
              "      <td>Mantas Capkauskas</td>\n",
              "      <td>150000</td>\n",
              "      <td>152500</td>\n",
              "      <td>2500.0</td>\n",
              "      <td>200</td>\n",
              "      <td>2300</td>\n",
              "      <td>525</td>\n",
              "      <td>6.2</td>\n",
              "      <td>13.4</td>\n",
              "      <td>40</td>\n",
              "      <td>350</td>\n",
              "      <td>12.4</td>\n",
              "      <td>308.2</td>\n",
              "      <td>320.60</td>\n",
              "      <td>350.0</td>\n",
              "      <td>40</td>\n",
              "      <td>69.4</td>\n",
              "      <td>2022-10</td>\n",
              "    </tr>\n",
              "    <tr>\n",
              "      <th>1</th>\n",
              "      <td>ŠKODA OKTAVIA RAK121</td>\n",
              "      <td>Mantas Capkauskas</td>\n",
              "      <td>195030</td>\n",
              "      <td>198730</td>\n",
              "      <td>3700.0</td>\n",
              "      <td>50</td>\n",
              "      <td>3650</td>\n",
              "      <td>502.5</td>\n",
              "      <td>6.6</td>\n",
              "      <td>8.8</td>\n",
              "      <td>20</td>\n",
              "      <td>335</td>\n",
              "      <td>3.3</td>\n",
              "      <td>321.2</td>\n",
              "      <td>324.50</td>\n",
              "      <td>335.0</td>\n",
              "      <td>20</td>\n",
              "      <td>30.5</td>\n",
              "      <td>2022-10</td>\n",
              "    </tr>\n",
              "    <tr>\n",
              "      <th>2</th>\n",
              "      <td>CITROEN BERLINGO DAB333</td>\n",
              "      <td>Valdas Skinderis</td>\n",
              "      <td>102500</td>\n",
              "      <td>104800</td>\n",
              "      <td>2300.0</td>\n",
              "      <td>450</td>\n",
              "      <td>1850</td>\n",
              "      <td>360</td>\n",
              "      <td>7.9</td>\n",
              "      <td>9.3</td>\n",
              "      <td>25</td>\n",
              "      <td>240</td>\n",
              "      <td>35.55</td>\n",
              "      <td>172.05</td>\n",
              "      <td>207.60</td>\n",
              "      <td>240.0</td>\n",
              "      <td>25</td>\n",
              "      <td>57.4</td>\n",
              "      <td>2022-10</td>\n",
              "    </tr>\n",
              "    <tr>\n",
              "      <th>3</th>\n",
              "      <td>CITROEN BERLINGO ZBL414</td>\n",
              "      <td>Andrius Krasauskas</td>\n",
              "      <td>85900</td>\n",
              "      <td>87800</td>\n",
              "      <td>1900.0</td>\n",
              "      <td>250</td>\n",
              "      <td>1650</td>\n",
              "      <td>285</td>\n",
              "      <td>7.7</td>\n",
              "      <td>9.6</td>\n",
              "      <td>30</td>\n",
              "      <td>190</td>\n",
              "      <td>19.25</td>\n",
              "      <td>158.4</td>\n",
              "      <td>177.65</td>\n",
              "      <td>190.0</td>\n",
              "      <td>30</td>\n",
              "      <td>42.35</td>\n",
              "      <td>2022-10</td>\n",
              "    </tr>\n",
              "    <tr>\n",
              "      <th>4</th>\n",
              "      <td>CITROEN BERLINGO JJT100</td>\n",
              "      <td>Rokas Barkauskas</td>\n",
              "      <td>124000</td>\n",
              "      <td>125700</td>\n",
              "      <td>1700.0</td>\n",
              "      <td>680</td>\n",
              "      <td>1020</td>\n",
              "      <td>262.5</td>\n",
              "      <td>7.9</td>\n",
              "      <td>9.4</td>\n",
              "      <td>25</td>\n",
              "      <td>175</td>\n",
              "      <td>53.72</td>\n",
              "      <td>95.88</td>\n",
              "      <td>149.60</td>\n",
              "      <td>175.0</td>\n",
              "      <td>25</td>\n",
              "      <td>50.4</td>\n",
              "      <td>2022-10</td>\n",
              "    </tr>\n",
              "  </tbody>\n",
              "</table>\n",
              "</div>"
            ],
            "text/plain": [
              "               automobilis         vairuotojas rida_pr rida_pb  nuv_ats  \\\n",
              "0       HYUNDAI i40 ABL555   Mantas Capkauskas  150000  152500   2500.0   \n",
              "1     ŠKODA OKTAVIA RAK121   Mantas Capkauskas  195030  198730   3700.0   \n",
              "2  CITROEN BERLINGO DAB333    Valdas Skinderis  102500  104800   2300.0   \n",
              "3  CITROEN BERLINGO ZBL414  Andrius Krasauskas   85900   87800   1900.0   \n",
              "4  CITROEN BERLINGO JJT100    Rokas Barkauskas  124000  125700   1700.0   \n",
              "\n",
              "  nuv_uzm nuv_mst kur_kaina vid_uzm vid_mst lik_pr prkt_kur sun_uzm sun_mst  \\\n",
              "0     200    2300       525     6.2    13.4     40      350    12.4   308.2   \n",
              "1      50    3650     502.5     6.6     8.8     20      335     3.3   321.2   \n",
              "2     450    1850       360     7.9     9.3     25      240   35.55  172.05   \n",
              "3     250    1650       285     7.7     9.6     30      190   19.25   158.4   \n",
              "4     680    1020     262.5     7.9     9.4     25      175   53.72   95.88   \n",
              "\n",
              "   sun_viso  fakt_sun lik_pb likutis     data  \n",
              "0    320.60     350.0     40    69.4  2022-10  \n",
              "1    324.50     335.0     20    30.5  2022-10  \n",
              "2    207.60     240.0     25    57.4  2022-10  \n",
              "3    177.65     190.0     30   42.35  2022-10  \n",
              "4    149.60     175.0     25    50.4  2022-10  "
            ]
          },
          "execution_count": 54,
          "metadata": {},
          "output_type": "execute_result"
        }
      ],
      "source": [
        "#bendra lentele uz ataskaitini laikotarpi\n",
        "bendr=pd.concat([spal, lap, gruod], axis=0)\n",
        "bendr.columns\n",
        "stul_pav=[\"automobilis\", \"vairuotojas\", \"rida_pr\", \"rida_pb\", \\\n",
        "          \"nuv_ats\", \"nuv_uzm\", \"nuv_mst\", \"kur_kaina\", \"vid_uzm\", \"vid_mst\", \\\n",
        "          \"lik_pr\", \"prkt_kur\", \"sun_uzm\",\"sun_mst\", \"sun_viso\", \"fakt_sun\", \"lik_pb\",\"likutis\", \"data\"]\n",
        "bendr.columns=stul_pav\n",
        "bendr=bendr.astype({\"nuv_ats\": 'float64', 'sun_viso': 'float64', 'fakt_sun': 'float64'})\n",
        "bendr.head()"
      ]
    },
    {
      "cell_type": "code",
      "execution_count": null,
      "id": "f6156a44-c2d3-46f0-8f6e-0b4ca64c7c19",
      "metadata": {
        "tags": [],
        "id": "f6156a44-c2d3-46f0-8f6e-0b4ca64c7c19"
      },
      "outputs": [],
      "source": [
        "#Automobiliiu identifikacijos isskaidymas i skirtingus stulpelius\n",
        "bendr[[\"auto_mark\", \"auto_mod\", \"valst_num\"]]=bendr[\"automobilis\"].str.split(\" \", expand=True)\n",
        "bendr[\"aut_modelis_marke\"]=bendr[\"auto_mark\"] + \" \" +  bendr[\"auto_mod\"]"
      ]
    },
    {
      "cell_type": "markdown",
      "id": "ce10c47c-57af-4e81-82f3-f3607b3d9ee0",
      "metadata": {
        "tags": [],
        "id": "ce10c47c-57af-4e81-82f3-f3607b3d9ee0"
      },
      "source": [
        "#### Duomenu lenteles apzvalga"
      ]
    },
    {
      "cell_type": "code",
      "execution_count": null,
      "id": "16ad3d32-19ac-46ec-ac6e-f2a01fbb9816",
      "metadata": {
        "tags": [],
        "id": "16ad3d32-19ac-46ec-ac6e-f2a01fbb9816",
        "outputId": "89e894ec-983a-47f0-8719-b225af55efca"
      },
      "outputs": [
        {
          "name": "stdout",
          "output_type": "stream",
          "text": [
            "<class 'pandas.core.frame.DataFrame'>\n",
            "Int64Index: 60 entries, 0 to 19\n",
            "Data columns (total 23 columns):\n",
            " #   Column             Non-Null Count  Dtype  \n",
            "---  ------             --------------  -----  \n",
            " 0   automobilis        60 non-null     object \n",
            " 1   vairuotojas        60 non-null     object \n",
            " 2   rida_pr            60 non-null     object \n",
            " 3   rida_pb            60 non-null     object \n",
            " 4   nuv_ats            60 non-null     float64\n",
            " 5   nuv_uzm            60 non-null     object \n",
            " 6   nuv_mst            60 non-null     object \n",
            " 7   kur_kaina          60 non-null     object \n",
            " 8   vid_uzm            60 non-null     object \n",
            " 9   vid_mst            60 non-null     object \n",
            " 10  lik_pr             60 non-null     object \n",
            " 11  prkt_kur           60 non-null     object \n",
            " 12  sun_uzm            60 non-null     object \n",
            " 13  sun_mst            60 non-null     object \n",
            " 14  sun_viso           60 non-null     float64\n",
            " 15  fakt_sun           60 non-null     float64\n",
            " 16  lik_pb             60 non-null     object \n",
            " 17  likutis            60 non-null     object \n",
            " 18  data               60 non-null     object \n",
            " 19  auto_mark          60 non-null     object \n",
            " 20  auto_mod           60 non-null     object \n",
            " 21  valst_num          60 non-null     object \n",
            " 22  aut_modelis_marke  60 non-null     object \n",
            "dtypes: float64(3), object(20)\n",
            "memory usage: 11.2+ KB\n",
            "None\n"
          ]
        }
      ],
      "source": [
        "#informacija apie lentele\n",
        "print(bendr.info())"
      ]
    },
    {
      "cell_type": "code",
      "execution_count": null,
      "id": "e06070ae-e4e1-481a-b88a-10696b5b84eb",
      "metadata": {
        "id": "e06070ae-e4e1-481a-b88a-10696b5b84eb",
        "outputId": "c95439a3-93ce-4f82-fbc8-511e6558fab3"
      },
      "outputs": [
        {
          "name": "stdout",
          "output_type": "stream",
          "text": [
            "(60, 23)\n"
          ]
        }
      ],
      "source": [
        "#lenteles dydis\n",
        "print(bendr.shape)"
      ]
    },
    {
      "cell_type": "code",
      "execution_count": null,
      "id": "8f8c4861-f48c-4f43-9ea2-38c3ab0adffc",
      "metadata": {
        "tags": [],
        "id": "8f8c4861-f48c-4f43-9ea2-38c3ab0adffc",
        "outputId": "31ccaee2-cc41-4db5-dd38-d052b6bdb6c8"
      },
      "outputs": [
        {
          "data": {
            "text/plain": [
              "False"
            ]
          },
          "execution_count": 58,
          "metadata": {},
          "output_type": "execute_result"
        }
      ],
      "source": [
        "#nulines reiksmes\n",
        "bendr.isnull().values.any()"
      ]
    },
    {
      "cell_type": "markdown",
      "id": "af01f216-1dd4-42c7-b373-82f7c16ac2eb",
      "metadata": {
        "id": "af01f216-1dd4-42c7-b373-82f7c16ac2eb"
      },
      "source": [
        "# Analizė"
      ]
    },
    {
      "cell_type": "markdown",
      "id": "bac682d4-85de-46ca-aa8f-e90d20d4a16b",
      "metadata": {
        "id": "bac682d4-85de-46ca-aa8f-e90d20d4a16b"
      },
      "source": [
        "#### 1. Ar istaigos \"X\" tarnybiniai automobiliai yra naudojami ekonomiskai ir koks yra neatitikimas tarp faktiskai sunaudojamu kuro litru ataskaitiniu laikotarpiu ir paskaiciuoto vidurkio?"
      ]
    },
    {
      "cell_type": "code",
      "execution_count": null,
      "id": "d1f70d1d-7bb5-43d4-9ba3-863625f7bbea",
      "metadata": {
        "tags": [],
        "id": "d1f70d1d-7bb5-43d4-9ba3-863625f7bbea",
        "outputId": "904dfbf7-02d3-42e3-bef7-e8b5be1796a8"
      },
      "outputs": [
        {
          "name": "stdout",
          "output_type": "stream",
          "text": [
            "bendras kuro neatitikimas- 1189.8 litrai\n",
            "vidutinis kuro neatitikimas kiekvienam vairuotojui nuo normu- 19.83\n",
            "procentinis kuro neatitikimas nuo normu- 12.07\n"
          ]
        },
        {
          "data": {
            "text/plain": [
              "data\n",
              "2022-10    329.04\n",
              "2022-11    354.85\n",
              "2022-12    505.91\n",
              "Name: skirt_kuro, dtype: float64"
            ]
          },
          "execution_count": 73,
          "metadata": {},
          "output_type": "execute_result"
        }
      ],
      "source": [
        "kur_skirt=bendr[[\"vairuotojas\", \"nuv_ats\",\"sun_viso\",\"fakt_sun\", \"data\"]].copy()\n",
        "kur_skirt[\"skirt_kuro\"]=abs(bendr[\"sun_viso\"]-bendr[\"fakt_sun\"])\n",
        "kur_skirt[[\"vairuotojas\", \"nuv_ats\",\"sun_viso\",\"fakt_sun\", \"skirt_kuro\", \"data\"]]\n",
        "kur_skirt[\"neat_proc\"]=kur_skirt[\"skirt_kuro\"] / kur_skirt[\"sun_viso\"] * 100\n",
        "print(\"bendras kuro neatitikimas-\", round(kur_skirt[\"skirt_kuro\"].sum(), 2),\"litrai\")\n",
        "print(\"vidutinis kuro neatitikimas kiekvienam vairuotojui nuo normu-\",round(kur_skirt[\"skirt_kuro\"].mean(), 2))\n",
        "print(\"procentinis kuro neatitikimas nuo normu-\",round(kur_skirt[\"neat_proc\"].mean(), 2))\n",
        "kur_pgl_dt=abs(kur_skirt.groupby(\"data\").skirt_kuro.sum())\n",
        "kur_pgl_dt"
      ]
    },
    {
      "cell_type": "code",
      "execution_count": null,
      "id": "dbee247e-1ccd-4805-93fe-4bd6723a122e",
      "metadata": {
        "jupyter": {
          "source_hidden": true
        },
        "tags": [],
        "id": "dbee247e-1ccd-4805-93fe-4bd6723a122e",
        "outputId": "7f7ce095-53cf-418d-b8fb-bd92bbf9cf0d"
      },
      "outputs": [
        {
          "data": {
            "text/plain": [
              "<AxesSubplot:xlabel='data'>"
            ]
          },
          "execution_count": 60,
          "metadata": {},
          "output_type": "execute_result"
        },
        {
          "data": {
            "image/png": "[encoded data removed]",
            "text/plain": [
              "<Figure size 640x480 with 1 Axes>"
            ]
          },
          "metadata": {},
          "output_type": "display_data"
        }
      ],
      "source": [
        "#lentele, skirta atvaizduoti, kokie kuro neatitikimai buvo kiekviena menesi.\n",
        "kur_pgl_dt.plot.bar()"
      ]
    },
    {
      "cell_type": "code",
      "execution_count": null,
      "id": "f9d05b7e-5ec7-48c9-b0ec-9a6ac784b268",
      "metadata": {
        "jupyter": {
          "source_hidden": true
        },
        "tags": [],
        "id": "f9d05b7e-5ec7-48c9-b0ec-9a6ac784b268",
        "outputId": "67ea6d79-58d1-4429-cef7-9bff41c1d608"
      },
      "outputs": [
        {
          "data": {
            "image/png": "[encoded data removed]",
            "text/plain": [
              "<Figure size 640x480 with 1 Axes>"
            ]
          },
          "metadata": {},
          "output_type": "display_data"
        }
      ],
      "source": [
        "sns.barplot(x = 'data',\n",
        "            y = 'skirt_kuro',\n",
        "            hue = 'vairuotojas',\n",
        "            data = kur_skirt,\n",
        "            palette=\"dark\",\n",
        "            estimator=sum,\n",
        "            ci = 0)\n",
        "plt.show()"
      ]
    },
    {
      "cell_type": "markdown",
      "id": "0bde6ca7-d5f7-4a6b-951b-047facbbd11e",
      "metadata": {
        "id": "0bde6ca7-d5f7-4a6b-951b-047facbbd11e"
      },
      "source": [
        "### 1. Isvados : \n",
        "#### Istaigos \"X\" spalio-gruodzio menesiais (ataskaitinis laikotarpis) bendras faktinis kuro sunaudojimas buvo 1189.8 litrais didesnis nei numatytas sunaudojimo vidurkis, taigi darytina isvada, jog automobiliai nera naudojami ekonomiskai. Detalizuojant, spalio menesi virsytas limitas buvo 329.04 litro, lapkricio menesi 354.85 litro, gruodzio menesi 505.91 litro. Vidutiniskai kiekvienam automobiliui virsytas kuro kiekis per visa ataskaitini laikotarpi sieke apie 19.83 litro arba 12.07 proc. numatyto limito. Ivertinus didejanti kuro limito virsijima kiekviena menesi, darytina prielaida, jog vestant oro temperaturai yra sunaudojama vis daugiau litru kuro."
      ]
    },
    {
      "cell_type": "markdown",
      "id": "c205b3e7-5a1f-435e-a01d-3cfd0e79cca3",
      "metadata": {
        "id": "c205b3e7-5a1f-435e-a01d-3cfd0e79cca3"
      },
      "source": [
        "#### 2. Kurie konkreciai istaigos \"X\" vairuotojai naudoja automobilius ekonomiskai, o kurie ne?"
      ]
    },
    {
      "cell_type": "code",
      "execution_count": null,
      "id": "775ec2ba-b620-4c4a-aade-0cdb5f91dbe6",
      "metadata": {
        "tags": [],
        "id": "775ec2ba-b620-4c4a-aade-0cdb5f91dbe6",
        "outputId": "13f02b8b-daca-4db8-8537-b8a5cdbe37b6"
      },
      "outputs": [
        {
          "name": "stdout",
          "output_type": "stream",
          "text": [
            "vairuotojas\n",
            "Andrius Krasauskas   -263.92\n",
            "Valdas Skinderis     -240.12\n",
            "Mantas Capkauskas    -230.01\n",
            "Rokas Barkauskas     -228.09\n",
            "Kestutis Gruodis     -227.66\n",
            "Name: neatitikimas, dtype: float64\n",
            "kuro neatitikimo vidurkis per ataskaitini laikotarpi -  -237.96\n"
          ]
        },
        {
          "name": "stderr",
          "output_type": "stream",
          "text": [
            "/var/folders/74/9nz61mvd2f34fbpfyvkfgb540000gp/T/ipykernel_25324/3590515813.py:1: FutureWarning: Indexing with multiple keys (implicitly converted to a tuple of keys) will be deprecated, use a list instead.\n",
            "  vair_neat=bendr.groupby([\"vairuotojas\", \"data\"])[\"sun_viso\", \"fakt_sun\"].agg({\"sun_viso\":\"sum\", \"fakt_sun\": \"sum\"}).reset_index()\n"
          ]
        }
      ],
      "source": [
        "vair_neat=bendr.groupby([\"vairuotojas\", \"data\"])[\"sun_viso\", \"fakt_sun\"].agg({\"sun_viso\":\"sum\", \"fakt_sun\": \"sum\"}).reset_index()\n",
        "vair_neat[\"neatitikimas\"]=vair_neat[\"sun_viso\"] - vair_neat[\"fakt_sun\"]\n",
        "sugrup_vair=vair_neat.groupby([\"vairuotojas\"])[\"neatitikimas\"].sum().sort_values(ascending=True)\n",
        "print(sugrup_vair)\n",
        "print(\"kuro neatitikimo vidurkis per ataskaitini laikotarpi - \", round(vair_neat.groupby([\"vairuotojas\"])[\"neatitikimas\"].sum().sort_values(ascending=True).mean(), 2))"
      ]
    },
    {
      "cell_type": "code",
      "execution_count": null,
      "id": "bb061388-6a54-4a9d-b21d-5fd97db6a1ec",
      "metadata": {
        "tags": [],
        "id": "bb061388-6a54-4a9d-b21d-5fd97db6a1ec",
        "outputId": "c58cf125-c721-4d42-fc88-419669a7a3bd"
      },
      "outputs": [
        {
          "data": {
            "text/plain": [
              "[None, None, None, None, None, None, None, None, None, None]"
            ]
          },
          "execution_count": 63,
          "metadata": {},
          "output_type": "execute_result"
        },
        {
          "data": {
            "image/png": "[encoded data removed]",
            "text/plain": [
              "<Figure size 640x480 with 1 Axes>"
            ]
          },
          "metadata": {},
          "output_type": "display_data"
        }
      ],
      "source": [
        "ax=sns.boxplot(x = vair_neat[\"vairuotojas\"], y=vair_neat[\"neatitikimas\"], palette=\"Blues\");\n",
        "plt.setp(ax.get_xticklabels(), rotation=45)"
      ]
    },
    {
      "cell_type": "markdown",
      "id": "3fb1c6e7-d2ba-4e6a-a3dc-98692d286edb",
      "metadata": {
        "tags": [],
        "id": "3fb1c6e7-d2ba-4e6a-a3dc-98692d286edb"
      },
      "source": [
        "### 2. Isvados: \n",
        "#### Atlikus analize paaiskejo, jog istaigoje \"X\" dirba 5 darbuotojai, kuriems yra priskirti automobiliai. Sie vairuotojai per ataskaitini laikotarpi automobilius naudojo neekonomiskai arba automobiliai del savo netinkamos bukles eikvojo daugiau kuro. Didziausias neatitikimas buvo Andriaus Krasausko vairuojamuose automobiliuose - 263.92 l. (spalio men. 62.68 l., lapkricio men. 72.26 l., gruodzio men. 128.98 l.). Didziausias ir rizikingiausias kuro limito virsijimas pasiektas gruodzio men ir butu galima detaliau analizuoti si rodikli vertinant finansinius dokumentus. Maziausias kuro limito virsijimas Kestucio Gruodzio - 227.66 l. (spalio men. 56.26 l., lapkriti 91.82 l., gruodi 79.58 l.), taciau kadangi bendras vairuotoju kuro neatitikimo vidurkis siekia apie 237.96 l. (spali 65.81 l., lapkriti 70.97 l., 101.18 l.) per ataskaitini laikotarpi, todel vertinti, jog kuris nors vairuotojas vairuoja ypatingai isskirtinai neekonomiskai nera galimybes."
      ]
    },
    {
      "cell_type": "markdown",
      "id": "4d55edb9-ed24-4dbe-99b5-6876a229aa0d",
      "metadata": {
        "id": "4d55edb9-ed24-4dbe-99b5-6876a229aa0d"
      },
      "source": [
        "#### 3. Kokios markes ir modelio tarnybinikai automobiliai yra ekonomiskiausi, o kurie neekonomiskiausi?"
      ]
    },
    {
      "cell_type": "code",
      "execution_count": null,
      "id": "55026617-62ca-4ec7-a379-79d558f97070",
      "metadata": {
        "tags": [],
        "id": "55026617-62ca-4ec7-a379-79d558f97070",
        "outputId": "399f3681-6843-4d24-e6d5-7a5a5b4f81d6"
      },
      "outputs": [
        {
          "data": {
            "text/plain": [
              "auto_mark\n",
              "HYUNDAI     42.60\n",
              "ŠKODA       90.78\n",
              "CITROEN    463.58\n",
              "VW         592.84\n",
              "dtype: float64"
            ]
          },
          "execution_count": 64,
          "metadata": {},
          "output_type": "execute_result"
        }
      ],
      "source": [
        "mark=bendr[[\"vairuotojas\", \"nuv_ats\",\"sun_viso\",\"fakt_sun\",\"auto_mark\", \"aut_modelis_marke\"]]\n",
        "mark1=mark.groupby(\"auto_mark\").sun_viso.sum()\n",
        "mark2=mark.groupby(\"auto_mark\").fakt_sun.sum()\n",
        "mark_sk=abs(mark1-mark2)\n",
        "mark_sk.sort_values(ascending=True)"
      ]
    },
    {
      "cell_type": "code",
      "execution_count": null,
      "id": "2f652e52-0ac0-45d2-b191-8b05b34002ae",
      "metadata": {
        "tags": [],
        "id": "2f652e52-0ac0-45d2-b191-8b05b34002ae",
        "outputId": "44fe7c8f-d3c8-48b0-f16c-b4fd37d15746"
      },
      "outputs": [
        {
          "data": {
            "text/plain": [
              "<AxesSubplot:xlabel='auto_mark'>"
            ]
          },
          "execution_count": 65,
          "metadata": {},
          "output_type": "execute_result"
        },
        {
          "data": {
            "image/png": "[encoded data removed]",
            "text/plain": [
              "<Figure size 640x480 with 1 Axes>"
            ]
          },
          "metadata": {},
          "output_type": "display_data"
        }
      ],
      "source": [
        "#lentele, atvaizduojanti tarnybiniu automobiliu konkreciu markiu kuro limitu virsijima ataskaitiniu laik. \n",
        "mark_sk.sort_values(ascending=False).plot.bar()"
      ]
    },
    {
      "cell_type": "code",
      "execution_count": null,
      "id": "349b3084-fb6f-4af9-8c9d-b6b91596aa86",
      "metadata": {
        "tags": [],
        "id": "349b3084-fb6f-4af9-8c9d-b6b91596aa86",
        "outputId": "7b632a4e-f10e-485d-d570-82c86edf3da5"
      },
      "outputs": [
        {
          "data": {
            "text/plain": [
              "aut_modelis_marke\n",
              "ŠKODA OKTAVIA        30.50\n",
              "HYUNDAI i40          42.60\n",
              "VW PASSAT            43.60\n",
              "ŠKODA Fabia          60.28\n",
              "VW TRANSPORTER       63.47\n",
              "CITROEN BERLINGO    463.58\n",
              "VW CADDY            485.77\n",
              "dtype: float64"
            ]
          },
          "execution_count": 66,
          "metadata": {},
          "output_type": "execute_result"
        }
      ],
      "source": [
        "mark_mod=bendr[[\"vairuotojas\", \"nuv_ats\",\"sun_viso\",\"fakt_sun\",\"auto_mark\", \"aut_modelis_marke\"]]\n",
        "mark_mod1=mark_mod.groupby(\"aut_modelis_marke\").sun_viso.sum()\n",
        "mark_mod2=mark_mod.groupby(\"aut_modelis_marke\").fakt_sun.sum()\n",
        "mark_mod_sk=abs(mark_mod1-mark_mod2)\n",
        "mark_mod_sk.sort_values(ascending=True)"
      ]
    },
    {
      "cell_type": "code",
      "execution_count": null,
      "id": "f06173d7-dbd6-41f8-b4f9-1afbda080c6f",
      "metadata": {
        "tags": [],
        "id": "f06173d7-dbd6-41f8-b4f9-1afbda080c6f",
        "outputId": "89661780-2a92-4ee4-bc7d-42f2670dbeda"
      },
      "outputs": [
        {
          "data": {
            "text/plain": [
              "<AxesSubplot:xlabel='aut_modelis_marke'>"
            ]
          },
          "execution_count": 67,
          "metadata": {},
          "output_type": "execute_result"
        },
        {
          "data": {
            "image/png": "[encoded data removed]",
            "text/plain": [
              "<Figure size 640x480 with 1 Axes>"
            ]
          },
          "metadata": {},
          "output_type": "display_data"
        }
      ],
      "source": [
        "#lentele, atvaizduojanti tarnybiniu automobiliu konkreciu markiu kuro limitu virsijima ataskaitiniu laik. \n",
        "mark_mod_sk.sort_values(ascending=False).plot.bar()"
      ]
    },
    {
      "cell_type": "markdown",
      "id": "6bfca151-b4a0-47a7-aa55-9bff7a7f07b0",
      "metadata": {
        "tags": [],
        "id": "6bfca151-b4a0-47a7-aa55-9bff7a7f07b0"
      },
      "source": [
        "### 3. Isvados:\n",
        "\n",
        "#### Jeigu darytume prielaida, jog visi vairuotojai vairuoja ekonomiskai, tuomet darytina isvada, jog bendrai \"VW\" markes automobiliai yra neekonomiskiausi (592.84 l. skirtumas nuo kuro limitu per atask. laik.) bei konkreciau \"VW Caddy\" modelio automobiliai yra patys neekonomiskiausi (485.77 l. skirtumas nuo kuro limitu per atask. laik.). Ekonomiskiausi yra \"Hyundai\" markes automobiliai (42.6 l. skirtumas nuo kuro limitu per atask. laik.), o vertinant automobilio modeli, darytina isvada, jog \"Skoda Octavia\" automobiliai yra ekonomiskiausi (30.5 l. skirtumas nuo kurio limitu per atask. laik.).Taip pat istaigai \"X\" atnaujinant automobiliu parka, tikslinga atsizvelgti i siuos analizes duomenis ir vykdyti automobiliu pirkimus pagal minima ekonomiskuma."
      ]
    },
    {
      "cell_type": "markdown",
      "id": "37629609-fee4-4ffc-a4ac-5cf60fee688b",
      "metadata": {
        "id": "37629609-fee4-4ffc-a4ac-5cf60fee688b"
      },
      "source": [
        "#### 4. Koki nuostoli (Eur.) istaiga \"X\" patiria del kuro suvartojimo neatitikimu?"
      ]
    },
    {
      "cell_type": "code",
      "execution_count": null,
      "id": "0976e981-b468-4d68-ae12-6db1f36e957d",
      "metadata": {
        "tags": [],
        "id": "0976e981-b468-4d68-ae12-6db1f36e957d"
      },
      "outputs": [],
      "source": [
        "kuro_kaina = 1.5"
      ]
    },
    {
      "cell_type": "code",
      "execution_count": null,
      "id": "dde27fb6-f449-4c2e-b708-988a7ad0a5da",
      "metadata": {
        "tags": [],
        "id": "dde27fb6-f449-4c2e-b708-988a7ad0a5da",
        "outputId": "bed8c773-9743-4f6d-ce35-f97c4068b25a"
      },
      "outputs": [
        {
          "name": "stdout",
          "output_type": "stream",
          "text": [
            "istaigos patirtas nuostolis -  1784.7 prognozuojamas metinis nuostolis -  7138.8\n"
          ]
        }
      ],
      "source": [
        "lesos=bendr[[\"vairuotojas\", \"nuv_ats\",\"sun_viso\",\"fakt_sun\"]].copy()\n",
        "lesos[\"skirt_kuro\"]=lesos[\"sun_viso\"] - lesos[\"fakt_sun\"]\n",
        "lesos[\"neat_proc\"]=lesos[\"skirt_kuro\"] / lesos[\"sun_viso\"] * 100\n",
        "lesos[\"skirt_vert\"]=abs(lesos[\"skirt_kuro\"]) * kuro_kaina\n",
        "neat_eur=round(lesos.skirt_vert.sum(), 2)\n",
        "prog_met_nuost=round(lesos.skirt_vert.sum() * 4, 2)\n",
        "print(\"istaigos patirtas nuostolis - \", neat_eur, \"prognozuojamas metinis nuostolis - \", prog_met_nuost)"
      ]
    },
    {
      "cell_type": "markdown",
      "id": "cda04d33-d829-4c9a-90f3-8a7af542bf4c",
      "metadata": {
        "tags": [],
        "id": "cda04d33-d829-4c9a-90f3-8a7af542bf4c"
      },
      "source": [
        "### 4. Isvados: \n",
        "#### Per 2022 metu ketvirta ketvirti (ataskaitini laikotarpi) istaiga \"X\" kaip nuostoli patyre 1784.7 Eur., kadangi buvo virsytos planuojamos lesos kuro sunaudojimui sia auksciau minima suma. Taip pat prognozuojant lesas ateinantiems metams, reiktu nusimatyti galima kuro sunaudojimo nuostoli (pervirsi), kuris apytikslaii gali siekti 7138,8 Eur."
      ]
    },
    {
      "cell_type": "markdown",
      "id": "ac0a42f0-1d9c-4872-bebc-fae9be0cfb4a",
      "metadata": {
        "id": "ac0a42f0-1d9c-4872-bebc-fae9be0cfb4a"
      },
      "source": [
        "#### 5. Kaip keistusi istaigos \"X\" lesos, skiriamos kuro sunaudojimui, brangstant kurui po 0,1 Eur. ir pingant po 0,1 Eur.?"
      ]
    },
    {
      "cell_type": "code",
      "execution_count": null,
      "id": "766eb968-8298-4f7d-a498-36d1f1cc62d9",
      "metadata": {
        "tags": [],
        "id": "766eb968-8298-4f7d-a498-36d1f1cc62d9",
        "outputId": "e9010fd2-0f34-4b5e-9ca2-559e0f0aa7a1"
      },
      "outputs": [
        {
          "data": {
            "text/plain": [
              "lesos_kurui              19869.0\n",
              "lesos_kurui + 0.1Eur.    21193.6\n",
              "lesos_kurui + 0.2Eur.    22518.2\n",
              "lesos_kurui + 0.3Eur.    23842.8\n",
              "lesos_kurui + 0.4Eur.    25167.4\n",
              "lesos_kurui - 0.1Eur.    18544.4\n",
              "lesos_kurui - 0.2Eur.    17219.8\n",
              "lesos_kurui - 0.3Eur.    15895.2\n",
              "lesos_kurui - 0.4Eur.    14570.6\n",
              "dtype: float64"
            ]
          },
          "execution_count": 70,
          "metadata": {},
          "output_type": "execute_result"
        }
      ],
      "source": [
        "lesos=bendr[[\"vairuotojas\", \"nuv_ats\",\"sun_viso\",\"fakt_sun\"]].copy()\n",
        "lesos[\"lesos_kurui\"]=lesos[\"fakt_sun\"] * kuro_kaina\n",
        "lesos[\"lesos_kurui + 0.1Eur.\"]=lesos[\"fakt_sun\"] * (kuro_kaina + 0.1)\n",
        "lesos[\"lesos_kurui + 0.2Eur.\"]=lesos[\"fakt_sun\"] * (kuro_kaina + 0.2)\n",
        "lesos[\"lesos_kurui + 0.3Eur.\"]=lesos[\"fakt_sun\"] * (kuro_kaina + 0.3)\n",
        "lesos[\"lesos_kurui + 0.4Eur.\"]=lesos[\"fakt_sun\"] * (kuro_kaina + 0.4)\n",
        "lesos[\"lesos_kurui - 0.1Eur.\"]=lesos[\"fakt_sun\"] * (kuro_kaina - 0.1)\n",
        "lesos[\"lesos_kurui - 0.2Eur.\"]=lesos[\"fakt_sun\"] * (kuro_kaina - 0.2)\n",
        "lesos[\"lesos_kurui - 0.3Eur.\"]=lesos[\"fakt_sun\"] * (kuro_kaina - 0.3)\n",
        "lesos[\"lesos_kurui - 0.4Eur.\"]=lesos[\"fakt_sun\"] * (kuro_kaina - 0.4)\n",
        "skirt=lesos[[\"lesos_kurui\", \"lesos_kurui + 0.1Eur.\", \"lesos_kurui + 0.2Eur.\",\\\n",
        "             \"lesos_kurui + 0.3Eur.\", \"lesos_kurui + 0.4Eur.\", \"lesos_kurui - 0.1Eur.\", \\\n",
        "             \"lesos_kurui - 0.2Eur.\", \"lesos_kurui - 0.3Eur.\", \"lesos_kurui - 0.4Eur.\"]].sum()\n",
        "skirt"
      ]
    },
    {
      "cell_type": "code",
      "execution_count": null,
      "id": "9e015106-0536-4fe6-baa2-5187d03f57af",
      "metadata": {
        "tags": [],
        "id": "9e015106-0536-4fe6-baa2-5187d03f57af",
        "outputId": "1372fb43-b715-436b-cdfb-b0df47576296"
      },
      "outputs": [
        {
          "data": {
            "text/plain": [
              "<AxesSubplot:>"
            ]
          },
          "execution_count": 71,
          "metadata": {},
          "output_type": "execute_result"
        },
        {
          "data": {
            "image/png": "[encoded data removed]",
            "text/plain": [
              "<Figure size 640x480 with 1 Axes>"
            ]
          },
          "metadata": {},
          "output_type": "display_data"
        }
      ],
      "source": [
        "skirt.sort_values(ascending=False).plot.bar()"
      ]
    },
    {
      "cell_type": "markdown",
      "id": "d0a61585-29b0-4d92-9256-390dda0eaffe",
      "metadata": {
        "id": "d0a61585-29b0-4d92-9256-390dda0eaffe"
      },
      "source": [
        "### 5. Isvados : \n",
        "\n",
        "#### Atlikus kuro kainos prognozuojamo pokycio analize, nustatyta, jog pagal turimus ketvircio duomenis, uz ataskaitini laikotarpi istaiga \"X\" bendrai sumokejo uz kuro sunaudojima - 19 869 Eur. Su salyga, jeigu kuras brangtu 0.1 Eur., istaiga \"X' tuomet sumoketu 21 193.6 Eur., 0.2 Eur. - 22 518.2 Eur., 0.3 Eur. 23 842.8 Eur. Jeigu kuras pigtu atitinkamai 0.1 Eur. istaiga \"X\" sumoketu 18 544.4 Eur., 0.2  Eur. - 17 219.8 Eur., 0.3 Eur. - 15 895.2 Eur."
      ]
    },
    {
      "cell_type": "markdown",
      "id": "cd07d628-105e-4422-a752-40dcf5690eb1",
      "metadata": {
        "id": "cd07d628-105e-4422-a752-40dcf5690eb1"
      },
      "source": [
        "#### 6. Ar istaigos \"X\" taikomas mokestis 0,55 Eur. uz 1 km. yra ekonomiskas ir, ar pelningas?"
      ]
    },
    {
      "cell_type": "code",
      "execution_count": null,
      "id": "94de1731-11fd-4d38-99f2-62ef33af23c6",
      "metadata": {
        "tags": [],
        "id": "94de1731-11fd-4d38-99f2-62ef33af23c6",
        "outputId": "b5bc5e95-68cc-411c-d09d-e5ecfceff9aa"
      },
      "outputs": [
        {
          "name": "stdout",
          "output_type": "stream",
          "text": [
            "taikomas mokestis uz nuvaziuota 1 km -  0.55 savikaina 1 km -  0.16 pelnas procentais - 343.75\n"
          ]
        }
      ],
      "source": [
        "sun_bend_l=bendr.fakt_sun.sum()\n",
        "sun_b_eur=sun_bend_l * kuro_kaina\n",
        "nuvaz_km=bendr.nuv_ats.sum()\n",
        "taik_mok=0.55\n",
        "fakt_1_km=round((sun_b_eur/nuvaz_km), 2)\n",
        "proc_pel=round(taik_mok/fakt_1_km * 100, 2)\n",
        "print(\"taikomas mokestis uz nuvaziuota 1 km - \", taik_mok, \"savikaina 1 km - \", fakt_1_km, \"pelnas procentais -\", proc_pel)"
      ]
    },
    {
      "cell_type": "markdown",
      "id": "95f7046f-048f-4383-a7cb-98ca049d8bc0",
      "metadata": {
        "id": "95f7046f-048f-4383-a7cb-98ca049d8bc0"
      },
      "source": [
        "### 6. Isvados:\n",
        "#### Isanalizavus, ar istaigos \"X\" taikomas tarifas 0.55 Eur. uz 1 km. suteiktos paslaugos yra ekonomiskas ir pelningas, nustatyta, jog istaigos \"X\" savikaina 1 km. yra 0.16 Eur. Taigi nevertinant automobiliu amortizacijos, darbuotoju uzdarbio ir kt. kastu, taikomas mokestis, kuris virsija 0.16 Eur., yra pelningas. Siuo metu istaigos \"X\" taikomo 0.55 Eur. mokescio pelningumas yra apie 343.75 proc. "
      ]
    },
    {
      "cell_type": "markdown",
      "id": "2491d920-232d-42e7-b947-287f5f7dbb40",
      "metadata": {
        "id": "2491d920-232d-42e7-b947-287f5f7dbb40"
      },
      "source": [
        "# ACIU UZ DEMESI"
      ]
    }
  ],
  "metadata": {
    "kernelspec": {
      "display_name": "Python 3 (ipykernel)",
      "language": "python",
      "name": "python3"
    },
    "language_info": {
      "codemirror_mode": {
        "name": "ipython",
        "version": 3
      },
      "file_extension": ".py",
      "mimetype": "text/x-python",
      "name": "python",
      "nbconvert_exporter": "python",
      "pygments_lexer": "ipython3",
      "version": "3.9.13"
    },
    "colab": {
      "provenance": [],
      "include_colab_link": true
    }
  },
  "nbformat": 4,
  "nbformat_minor": 5
}